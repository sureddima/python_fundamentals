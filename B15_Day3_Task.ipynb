{
 "cells": [
  {
   "cell_type": "code",
   "execution_count": null,
   "metadata": {},
   "outputs": [],
   "source": [
    "#Introdution to f String"
   ]
  },
  {
   "cell_type": "code",
   "execution_count": 8,
   "metadata": {},
   "outputs": [
    {
     "name": "stdout",
     "output_type": "stream",
     "text": [
      "manoharraosureddi\n"
     ]
    }
   ],
   "source": [
    "first_name = 'manohar'\n",
    "middle_name = 'rao'\n",
    "last_name = 'sureddi'\n",
    "full_name = f\"{first_name}{middle_name}{last_name}\"\n",
    "print(full_name)"
   ]
  },
  {
   "cell_type": "code",
   "execution_count": 9,
   "metadata": {},
   "outputs": [
    {
     "name": "stdout",
     "output_type": "stream",
     "text": [
      "manohar rao sureddi\n"
     ]
    }
   ],
   "source": [
    "first_name = 'manohar'\n",
    "middle_name = 'rao'\n",
    "last_name = 'sureddi'\n",
    "full_name = f\"{first_name} {middle_name} {last_name}\"\n",
    "print(full_name)"
   ]
  },
  {
   "cell_type": "code",
   "execution_count": 11,
   "metadata": {},
   "outputs": [
    {
     "name": "stdout",
     "output_type": "stream",
     "text": [
      "Manohar Rao Sureddi\n"
     ]
    }
   ],
   "source": [
    "first_name = 'manohar'\n",
    "middle_name = 'rao'\n",
    "last_name = 'sureddi'\n",
    "full_name = f\"{first_name} {middle_name} {last_name}\"\n",
    "print(full_name.title())"
   ]
  },
  {
   "cell_type": "code",
   "execution_count": 19,
   "metadata": {},
   "outputs": [
    {
     "name": "stdout",
     "output_type": "stream",
     "text": [
      " I am Manohar Sureddi\n"
     ]
    }
   ],
   "source": [
    "first_name = 'manohar'\n",
    "last_name = 'sureddi'\n",
    "message = f\" I am {first_name.title()} {last_name.title()}\"\n",
    "print(message)"
   ]
  },
  {
   "cell_type": "code",
   "execution_count": 21,
   "metadata": {},
   "outputs": [
    {
     "name": "stdout",
     "output_type": "stream",
     "text": [
      "PythonCC++\n"
     ]
    }
   ],
   "source": [
    "print('Python''C''C++')"
   ]
  },
  {
   "cell_type": "code",
   "execution_count": 26,
   "metadata": {},
   "outputs": [
    {
     "name": "stdout",
     "output_type": "stream",
     "text": [
      "Python\n",
      "C\n",
      "C++\n"
     ]
    }
   ],
   "source": [
    "print('Python\\n''C\\n''C++')"
   ]
  },
  {
   "cell_type": "code",
   "execution_count": 30,
   "metadata": {},
   "outputs": [
    {
     "name": "stdout",
     "output_type": "stream",
     "text": [
      "Fav Lang: \n",
      "Python\n",
      "C\n",
      "C++\n"
     ]
    }
   ],
   "source": [
    "print(\"Fav Lang: \"'\\nPython''\\nC''\\nC++')"
   ]
  },
  {
   "cell_type": "code",
   "execution_count": 37,
   "metadata": {},
   "outputs": [
    {
     "name": "stdout",
     "output_type": "stream",
     "text": [
      "Fav Lang: \n",
      "\tPython\n",
      "\tC\n",
      "\tC++\n"
     ]
    }
   ],
   "source": [
    "print(\"Fav Lang: \"'\\n\\tPython''\\n\\tC''\\n\\tC++')"
   ]
  },
  {
   "cell_type": "code",
   "execution_count": 44,
   "metadata": {},
   "outputs": [
    {
     "name": "stdout",
     "output_type": "stream",
     "text": [
      "MANOAHR  \n"
     ]
    }
   ],
   "source": [
    "x = '    MANOAHR  '\n",
    "print(x.lstrip())"
   ]
  },
  {
   "cell_type": "code",
   "execution_count": 45,
   "metadata": {},
   "outputs": [
    {
     "name": "stdout",
     "output_type": "stream",
     "text": [
      "    MANOAHR\n"
     ]
    }
   ],
   "source": [
    "y = '    MANOAHR  '\n",
    "print(y.rstrip())"
   ]
  },
  {
   "cell_type": "code",
   "execution_count": 46,
   "metadata": {},
   "outputs": [
    {
     "name": "stdout",
     "output_type": "stream",
     "text": [
      "MANOAHR SUREDDI\n"
     ]
    }
   ],
   "source": [
    "y = '    MANOAHR SUREDDI   '\n",
    "print(y.strip())"
   ]
  }
 ],
 "metadata": {
  "kernelspec": {
   "display_name": "Python 3",
   "language": "python",
   "name": "python3"
  },
  "language_info": {
   "codemirror_mode": {
    "name": "ipython",
    "version": 3
   },
   "file_extension": ".py",
   "mimetype": "text/x-python",
   "name": "python",
   "nbconvert_exporter": "python",
   "pygments_lexer": "ipython3",
   "version": "3.7.6"
  }
 },
 "nbformat": 4,
 "nbformat_minor": 4
}
